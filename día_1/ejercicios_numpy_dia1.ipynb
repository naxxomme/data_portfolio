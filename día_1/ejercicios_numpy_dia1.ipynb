{
 "cells": [
  {
   "cell_type": "markdown",
   "id": "393b0972-28f1-4e0d-8167-b0ecb4b69498",
   "metadata": {},
   "source": [
    "## Ejercicios Día 1 - NumPy\n",
    "\n",
    "- Array de 10 ceros → cambia el 5º valor a 1\n",
    "- Array del 0 al 9 → invierte\n",
    "- Matriz 3x3 con valores del 0 al 8\n",
    "- Matriz identidad 4x4\n",
    "- Array de 10 números aleatorios entre 0 y 1\n",
    "- Multiplicación elemento a elemento de dos arrays\n",
    "- Media, std, suma de array con 20 aleatorios\n",
    "- Matriz 5x5 → modificar diagonal principal\n",
    "- Máscara booleana para valores mayores a la media\n",
    "- .reshape() array 1D a 3x3\n",
    "- .mean(axis=1) y .std(axis=0) en matriz aleatoria"
   ]
  },
  {
   "cell_type": "code",
   "execution_count": 1,
   "id": "293dfd65-2d57-4e7e-b3da-1ebe512361ab",
   "metadata": {},
   "outputs": [],
   "source": [
    "import sys\n",
    "import numpy as np"
   ]
  },
  {
   "cell_type": "code",
   "execution_count": 34,
   "id": "e4b8c69a-7371-4064-b6a6-19c963396233",
   "metadata": {},
   "outputs": [],
   "source": [
    "# EJERCICIO 1"
   ]
  },
  {
   "cell_type": "code",
   "execution_count": 51,
   "id": "cd76822b-cad2-4100-a878-53cd41e3e9d7",
   "metadata": {},
   "outputs": [],
   "source": [
    "zero = np.zeros(10, dtype=int)"
   ]
  },
  {
   "cell_type": "code",
   "execution_count": 52,
   "id": "d59ea83e-2b7b-4abb-8208-d67065329ea9",
   "metadata": {},
   "outputs": [],
   "source": [
    "zero[4]=1"
   ]
  },
  {
   "cell_type": "code",
   "execution_count": 53,
   "id": "9a214e65-3c19-47d6-834c-30f84185fac3",
   "metadata": {},
   "outputs": [
    {
     "data": {
      "text/plain": [
       "array([0, 0, 0, 0, 1, 0, 0, 0, 0, 0])"
      ]
     },
     "execution_count": 53,
     "metadata": {},
     "output_type": "execute_result"
    }
   ],
   "source": [
    "zero"
   ]
  },
  {
   "cell_type": "code",
   "execution_count": 38,
   "id": "1f027a4b-8090-4244-a23f-fc721a4b60d7",
   "metadata": {},
   "outputs": [],
   "source": [
    "# EJERCICIO 2"
   ]
  },
  {
   "cell_type": "code",
   "execution_count": 47,
   "id": "baf5067d-50ca-4a0c-9598-edbb35f20b4f",
   "metadata": {},
   "outputs": [],
   "source": [
    "inverso = np.arange(10)"
   ]
  },
  {
   "cell_type": "code",
   "execution_count": 48,
   "id": "08d10201-698e-473f-8856-5ea778ac1c9b",
   "metadata": {},
   "outputs": [
    {
     "data": {
      "text/plain": [
       "array([0, 1, 2, 3, 4, 5, 6, 7, 8, 9])"
      ]
     },
     "execution_count": 48,
     "metadata": {},
     "output_type": "execute_result"
    }
   ],
   "source": [
    "inverso"
   ]
  },
  {
   "cell_type": "code",
   "execution_count": 49,
   "id": "dbd7790a-1847-470d-a5e9-eb23a90aae90",
   "metadata": {},
   "outputs": [
    {
     "data": {
      "text/plain": [
       "array([9, 8, 7, 6, 5, 4, 3, 2, 1, 0])"
      ]
     },
     "execution_count": 49,
     "metadata": {},
     "output_type": "execute_result"
    }
   ],
   "source": [
    "inverso[-1::-1] # a[inicio:fin:paso]"
   ]
  },
  {
   "cell_type": "code",
   "execution_count": 50,
   "id": "3573a4c1-4ce0-46e3-9ea5-3be03e0990e2",
   "metadata": {},
   "outputs": [
    {
     "name": "stdout",
     "output_type": "stream",
     "text": [
      "[9 8 7 6 5 4 3 2 1 0]\n"
     ]
    }
   ],
   "source": [
    "a = np.arange(10)[::-1]\n",
    "print(a) # ESTA ES OTRA FORMA"
   ]
  },
  {
   "cell_type": "code",
   "execution_count": 42,
   "id": "1fc0bdd8-47bc-49e1-b5b6-22ca448f868e",
   "metadata": {},
   "outputs": [],
   "source": [
    "# EJERCICIO 3"
   ]
  },
  {
   "cell_type": "code",
   "execution_count": 43,
   "id": "f590ab9f-b1a7-4c57-bfb7-62432f539dc5",
   "metadata": {},
   "outputs": [],
   "source": [
    "A = np.array([\n",
    "    [0,1,2],\n",
    "    [3,4,5],\n",
    "    [6,7,8]\n",
    "])"
   ]
  },
  {
   "cell_type": "code",
   "execution_count": 44,
   "id": "77eba728-1c92-41ea-8acf-0bfc6d5b85f3",
   "metadata": {},
   "outputs": [
    {
     "data": {
      "text/plain": [
       "array([[0, 1, 2],\n",
       "       [3, 4, 5],\n",
       "       [6, 7, 8]])"
      ]
     },
     "execution_count": 44,
     "metadata": {},
     "output_type": "execute_result"
    }
   ],
   "source": [
    "A"
   ]
  },
  {
   "cell_type": "code",
   "execution_count": 46,
   "id": "e86d216f-973d-434e-96d5-423cc5522740",
   "metadata": {},
   "outputs": [
    {
     "name": "stdout",
     "output_type": "stream",
     "text": [
      "[[0 1 2]\n",
      " [3 4 5]\n",
      " [6 7 8]]\n"
     ]
    }
   ],
   "source": [
    "matriz = np.arange(9).reshape(3, 3)\n",
    "print(matriz) # ESTA ES OTRA FORMA"
   ]
  },
  {
   "cell_type": "code",
   "execution_count": 45,
   "id": "18709f14-bf28-4d5b-82ff-e7c7832fbd6c",
   "metadata": {},
   "outputs": [],
   "source": [
    "# EJERCICIO 4"
   ]
  },
  {
   "cell_type": "code",
   "execution_count": 54,
   "id": "af18bec7-4d7a-4978-9904-ca4dfbae0ee5",
   "metadata": {},
   "outputs": [],
   "source": [
    "identidad = np.eye(4)"
   ]
  },
  {
   "cell_type": "code",
   "execution_count": 55,
   "id": "782408c8-73bd-4573-b3f4-ae233cf108a3",
   "metadata": {},
   "outputs": [
    {
     "data": {
      "text/plain": [
       "array([[1., 0., 0., 0.],\n",
       "       [0., 1., 0., 0.],\n",
       "       [0., 0., 1., 0.],\n",
       "       [0., 0., 0., 1.]])"
      ]
     },
     "execution_count": 55,
     "metadata": {},
     "output_type": "execute_result"
    }
   ],
   "source": [
    "identidad"
   ]
  },
  {
   "cell_type": "code",
   "execution_count": 56,
   "id": "dbe82c17-c3e1-41e0-a672-b81a8a19d394",
   "metadata": {},
   "outputs": [],
   "source": [
    "# EJERCICIO 5"
   ]
  },
  {
   "cell_type": "code",
   "execution_count": 74,
   "id": "76865a3d-e590-4166-86ab-df20d5e1f197",
   "metadata": {},
   "outputs": [],
   "source": [
    "aleatorios = np.random.randint(0, 2, size=10)"
   ]
  },
  {
   "cell_type": "code",
   "execution_count": 75,
   "id": "e85082df-d48d-4b5e-9826-602df7042134",
   "metadata": {},
   "outputs": [
    {
     "data": {
      "text/plain": [
       "array([1, 1, 1, 0, 1, 0, 0, 1, 0, 1])"
      ]
     },
     "execution_count": 75,
     "metadata": {},
     "output_type": "execute_result"
    }
   ],
   "source": [
    "aleatorios"
   ]
  },
  {
   "cell_type": "code",
   "execution_count": 76,
   "id": "f22d0240-4f27-42c3-9980-e9574f490b65",
   "metadata": {},
   "outputs": [],
   "source": [
    "# EJERCICIO 6"
   ]
  },
  {
   "cell_type": "code",
   "execution_count": 78,
   "id": "10915289-8416-46c2-bd40-cbda668789fe",
   "metadata": {},
   "outputs": [],
   "source": [
    "a = np.array([1,2,3])\n",
    "b = np.array([4,5,6])\n",
    "\n",
    "producto = a * b"
   ]
  },
  {
   "cell_type": "code",
   "execution_count": 79,
   "id": "00977ce9-a267-4848-a480-e040eede6ea4",
   "metadata": {},
   "outputs": [
    {
     "data": {
      "text/plain": [
       "array([ 4, 10, 18])"
      ]
     },
     "execution_count": 79,
     "metadata": {},
     "output_type": "execute_result"
    }
   ],
   "source": [
    "producto"
   ]
  },
  {
   "cell_type": "code",
   "execution_count": 85,
   "id": "82fab414-3a64-45c1-9dec-60ec51e61a98",
   "metadata": {},
   "outputs": [],
   "source": [
    "# EJERCICIO 7"
   ]
  },
  {
   "cell_type": "code",
   "execution_count": 81,
   "id": "8ecac111-1c14-4f14-b9c5-9a0cb8d3636b",
   "metadata": {},
   "outputs": [],
   "source": [
    "arr = np.random.rand(20)\n",
    "\n",
    "media=arr.mean()\n",
    "std=arr.std()\n",
    "suma=arr.sum()"
   ]
  },
  {
   "cell_type": "code",
   "execution_count": 82,
   "id": "a0d4ea87-39e3-4dca-affd-1a222da547ca",
   "metadata": {},
   "outputs": [
    {
     "data": {
      "text/plain": [
       "0.45510446048467096"
      ]
     },
     "execution_count": 82,
     "metadata": {},
     "output_type": "execute_result"
    }
   ],
   "source": [
    "media"
   ]
  },
  {
   "cell_type": "code",
   "execution_count": 83,
   "id": "efbabe68-b18c-4ed3-9144-b058b8dcf0f5",
   "metadata": {},
   "outputs": [
    {
     "data": {
      "text/plain": [
       "0.3043716753979581"
      ]
     },
     "execution_count": 83,
     "metadata": {},
     "output_type": "execute_result"
    }
   ],
   "source": [
    "std"
   ]
  },
  {
   "cell_type": "code",
   "execution_count": 84,
   "id": "46305cf4-6db0-4d99-80e7-c001a59b7580",
   "metadata": {},
   "outputs": [
    {
     "data": {
      "text/plain": [
       "9.10208920969342"
      ]
     },
     "execution_count": 84,
     "metadata": {},
     "output_type": "execute_result"
    }
   ],
   "source": [
    "suma"
   ]
  },
  {
   "cell_type": "code",
   "execution_count": 86,
   "id": "94cce987-c1f1-486e-80c6-23a61c55f27d",
   "metadata": {},
   "outputs": [],
   "source": [
    "# EJERCICIO 8"
   ]
  },
  {
   "cell_type": "code",
   "execution_count": 87,
   "id": "aa210cf8-0c16-4030-839c-96ac4e0fd60f",
   "metadata": {},
   "outputs": [],
   "source": [
    "m = np.random.randint(0,10,(5,5))\n",
    "np.fill_diagonal(m,99)"
   ]
  },
  {
   "cell_type": "code",
   "execution_count": 88,
   "id": "b8da8742-7f55-4a6b-9bec-77bb12c95112",
   "metadata": {},
   "outputs": [
    {
     "data": {
      "text/plain": [
       "array([[99,  5,  2,  4,  4],\n",
       "       [ 0, 99,  3,  5,  5],\n",
       "       [ 9,  4, 99,  1,  7],\n",
       "       [ 4,  5,  1, 99,  2],\n",
       "       [ 1,  4,  5,  4, 99]])"
      ]
     },
     "execution_count": 88,
     "metadata": {},
     "output_type": "execute_result"
    }
   ],
   "source": [
    "m"
   ]
  },
  {
   "cell_type": "code",
   "execution_count": 89,
   "id": "5a107280-3c07-470f-8381-eba5258e3f24",
   "metadata": {},
   "outputs": [],
   "source": [
    "# EJERCICIO 9"
   ]
  },
  {
   "cell_type": "code",
   "execution_count": 90,
   "id": "07fcfca9-44fa-4467-89a4-85255c66c5da",
   "metadata": {},
   "outputs": [],
   "source": [
    "arr = np.random.randint(0, 100, 10)\n",
    "mascara = arr > arr.mean()"
   ]
  },
  {
   "cell_type": "code",
   "execution_count": 91,
   "id": "c3ccbdca-1ad1-4fa9-9edb-0eb09073573d",
   "metadata": {},
   "outputs": [
    {
     "data": {
      "text/plain": [
       "array([20, 73, 73, 86, 13, 91, 69,  8, 19, 88])"
      ]
     },
     "execution_count": 91,
     "metadata": {},
     "output_type": "execute_result"
    }
   ],
   "source": [
    "arr"
   ]
  },
  {
   "cell_type": "code",
   "execution_count": 92,
   "id": "5fa0ae4a-3c38-4c2d-b628-72a7a8d1e2e6",
   "metadata": {},
   "outputs": [
    {
     "data": {
      "text/plain": [
       "54.0"
      ]
     },
     "execution_count": 92,
     "metadata": {},
     "output_type": "execute_result"
    }
   ],
   "source": [
    "arr.mean()"
   ]
  },
  {
   "cell_type": "code",
   "execution_count": 93,
   "id": "df429baa-d61f-41c9-a8c4-a213ca933767",
   "metadata": {},
   "outputs": [
    {
     "data": {
      "text/plain": [
       "array([False,  True,  True,  True, False,  True,  True, False, False,\n",
       "        True])"
      ]
     },
     "execution_count": 93,
     "metadata": {},
     "output_type": "execute_result"
    }
   ],
   "source": [
    "mascara"
   ]
  },
  {
   "cell_type": "code",
   "execution_count": 94,
   "id": "182b94af-cba2-493d-8154-db52c4571fd4",
   "metadata": {},
   "outputs": [
    {
     "data": {
      "text/plain": [
       "array([73, 73, 86, 91, 69, 88])"
      ]
     },
     "execution_count": 94,
     "metadata": {},
     "output_type": "execute_result"
    }
   ],
   "source": [
    "arr[mascara]"
   ]
  },
  {
   "cell_type": "code",
   "execution_count": 95,
   "id": "83e5f629-abf0-462d-b4fa-011550b1cd39",
   "metadata": {},
   "outputs": [],
   "source": [
    "# EJERCICIO 10"
   ]
  },
  {
   "cell_type": "code",
   "execution_count": 96,
   "id": "438a069b-d621-495e-a6e8-47e3ec253402",
   "metadata": {},
   "outputs": [],
   "source": [
    "a = np.arange(9)\n",
    "a_reshaped = a.reshape(3,3)"
   ]
  },
  {
   "cell_type": "code",
   "execution_count": 98,
   "id": "6f793fbc-ab08-4d7d-abd2-a839b6cef5b5",
   "metadata": {},
   "outputs": [
    {
     "data": {
      "text/plain": [
       "array([0, 1, 2, 3, 4, 5, 6, 7, 8])"
      ]
     },
     "execution_count": 98,
     "metadata": {},
     "output_type": "execute_result"
    }
   ],
   "source": [
    "a"
   ]
  },
  {
   "cell_type": "code",
   "execution_count": 99,
   "id": "f502c294-0c4b-4324-b308-a264ff911926",
   "metadata": {},
   "outputs": [
    {
     "data": {
      "text/plain": [
       "array([[0, 1, 2],\n",
       "       [3, 4, 5],\n",
       "       [6, 7, 8]])"
      ]
     },
     "execution_count": 99,
     "metadata": {},
     "output_type": "execute_result"
    }
   ],
   "source": [
    "a_reshaped"
   ]
  },
  {
   "cell_type": "code",
   "execution_count": 100,
   "id": "adcb36ea-091a-4270-87db-cc38f08e3469",
   "metadata": {},
   "outputs": [],
   "source": [
    "# EJERCICIO 11"
   ]
  },
  {
   "cell_type": "code",
   "execution_count": null,
   "id": "5c704546-90c9-42d6-be8e-c39b36b5c51b",
   "metadata": {},
   "outputs": [],
   "source": [
    "mat = np.random.rand(4,3)\n",
    "\n",
    "media_filas = mat.mean(axis=1)\n",
    "std_columnas = "
   ]
  }
 ],
 "metadata": {
  "kernelspec": {
   "display_name": "Python [conda env:base] *",
   "language": "python",
   "name": "conda-base-py"
  },
  "language_info": {
   "codemirror_mode": {
    "name": "ipython",
    "version": 3
   },
   "file_extension": ".py",
   "mimetype": "text/x-python",
   "name": "python",
   "nbconvert_exporter": "python",
   "pygments_lexer": "ipython3",
   "version": "3.12.7"
  }
 },
 "nbformat": 4,
 "nbformat_minor": 5
}
