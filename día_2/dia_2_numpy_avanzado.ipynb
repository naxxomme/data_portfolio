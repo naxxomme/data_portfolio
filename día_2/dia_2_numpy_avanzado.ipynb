{
 "cells": [
  {
   "cell_type": "markdown",
   "id": "f00715ba-d575-4454-86da-176d51c4f070",
   "metadata": {},
   "source": [
    "# Numpy: Numeric computing library"
   ]
  },
  {
   "cell_type": "code",
   "execution_count": 1,
   "id": "41112bd0-a6c8-4821-b86b-c8f2480567de",
   "metadata": {},
   "outputs": [],
   "source": [
    "import sys\n",
    "import numpy as np"
   ]
  },
  {
   "cell_type": "markdown",
   "id": "602b8ecf-0635-44e1-bf46-630ca405f51c",
   "metadata": {},
   "source": [
    "### Boolean arrays\n",
    "_(Also called masks)_"
   ]
  },
  {
   "cell_type": "code",
   "execution_count": 2,
   "id": "c7628811-8881-4641-b9d5-d2f37c7c9a29",
   "metadata": {},
   "outputs": [],
   "source": [
    "a = np.arange(4)"
   ]
  },
  {
   "cell_type": "code",
   "execution_count": 3,
   "id": "7f45d1f4-d125-4368-8809-ab9b4e480ef6",
   "metadata": {},
   "outputs": [
    {
     "data": {
      "text/plain": [
       "array([0, 1, 2, 3])"
      ]
     },
     "execution_count": 3,
     "metadata": {},
     "output_type": "execute_result"
    }
   ],
   "source": [
    "a"
   ]
  },
  {
   "cell_type": "code",
   "execution_count": 5,
   "id": "a83a82b1-cfb8-4aaa-9b61-1e452404b72a",
   "metadata": {},
   "outputs": [
    {
     "data": {
      "text/plain": [
       "(0, 3)"
      ]
     },
     "execution_count": 5,
     "metadata": {},
     "output_type": "execute_result"
    }
   ],
   "source": [
    "a[0], a[-1]"
   ]
  },
  {
   "cell_type": "code",
   "execution_count": 4,
   "id": "ad7dda91-cb2a-4f86-bb95-9f55358573fc",
   "metadata": {},
   "outputs": [
    {
     "data": {
      "text/plain": [
       "array([0, 3])"
      ]
     },
     "execution_count": 4,
     "metadata": {},
     "output_type": "execute_result"
    }
   ],
   "source": [
    "a[[0, -1]]"
   ]
  },
  {
   "cell_type": "code",
   "execution_count": 7,
   "id": "91cf2f20-b44c-49a3-a8db-47ecd55189ea",
   "metadata": {},
   "outputs": [
    {
     "data": {
      "text/plain": [
       "array([0, 3])"
      ]
     },
     "execution_count": 7,
     "metadata": {},
     "output_type": "execute_result"
    }
   ],
   "source": [
    "a[[True, False, False, True]] # Con True or False indicas los elementos que quieres seleccionar"
   ]
  },
  {
   "cell_type": "code",
   "execution_count": 8,
   "id": "8c58c69a-f326-4eb7-9caa-841db4e79993",
   "metadata": {},
   "outputs": [
    {
     "data": {
      "text/plain": [
       "array([False, False,  True,  True])"
      ]
     },
     "execution_count": 8,
     "metadata": {},
     "output_type": "execute_result"
    }
   ],
   "source": [
    "a >= 2"
   ]
  },
  {
   "cell_type": "code",
   "execution_count": 9,
   "id": "5c161261-0e67-4057-83dd-b12a97c3cd21",
   "metadata": {},
   "outputs": [
    {
     "data": {
      "text/plain": [
       "array([2, 3])"
      ]
     },
     "execution_count": 9,
     "metadata": {},
     "output_type": "execute_result"
    }
   ],
   "source": [
    "a[a >= 2]"
   ]
  },
  {
   "cell_type": "code",
   "execution_count": 10,
   "id": "59951ef3-3933-4d6a-bf91-741262335ffe",
   "metadata": {},
   "outputs": [
    {
     "data": {
      "text/plain": [
       "1.5"
      ]
     },
     "execution_count": 10,
     "metadata": {},
     "output_type": "execute_result"
    }
   ],
   "source": [
    "a.mean()"
   ]
  },
  {
   "cell_type": "code",
   "execution_count": 11,
   "id": "2c4d7aa2-ce23-474e-854d-1da101203eef",
   "metadata": {},
   "outputs": [
    {
     "data": {
      "text/plain": [
       "array([2, 3])"
      ]
     },
     "execution_count": 11,
     "metadata": {},
     "output_type": "execute_result"
    }
   ],
   "source": [
    "a[a > a.mean()]"
   ]
  },
  {
   "cell_type": "code",
   "execution_count": 15,
   "id": "b53b43f5-8dd3-4583-8249-65f4116aa832",
   "metadata": {},
   "outputs": [
    {
     "data": {
      "text/plain": [
       "array([0, 1])"
      ]
     },
     "execution_count": 15,
     "metadata": {},
     "output_type": "execute_result"
    }
   ],
   "source": [
    "a[~(a > a.mean())] # Esto muestra los valores que no son superiores a mean, es decir lo contrario al statement"
   ]
  },
  {
   "cell_type": "code",
   "execution_count": 16,
   "id": "60cadea5-87d9-44f1-9735-11eac916a6ac",
   "metadata": {},
   "outputs": [
    {
     "data": {
      "text/plain": [
       "array([0, 1])"
      ]
     },
     "execution_count": 16,
     "metadata": {},
     "output_type": "execute_result"
    }
   ],
   "source": [
    "a[(a == 0) | (a == 1)]"
   ]
  },
  {
   "cell_type": "code",
   "execution_count": 17,
   "id": "2fbfc447-731e-4a35-ac4c-3e05d765a669",
   "metadata": {},
   "outputs": [
    {
     "data": {
      "text/plain": [
       "array([0, 2])"
      ]
     },
     "execution_count": 17,
     "metadata": {},
     "output_type": "execute_result"
    }
   ],
   "source": [
    "a[(a <= 2) & (a % 2 == 0)]"
   ]
  },
  {
   "cell_type": "code",
   "execution_count": 19,
   "id": "6fda51d1-ae40-4e97-b68e-5309649b82df",
   "metadata": {},
   "outputs": [],
   "source": [
    "A = np.random.randint(100, size=(3,3))"
   ]
  },
  {
   "cell_type": "code",
   "execution_count": 20,
   "id": "b47d8ca4-43a3-444c-b9d1-e55fd4bd8e69",
   "metadata": {},
   "outputs": [
    {
     "data": {
      "text/plain": [
       "array([[50, 82,  7],\n",
       "       [97, 10, 68],\n",
       "       [83, 12, 50]])"
      ]
     },
     "execution_count": 20,
     "metadata": {},
     "output_type": "execute_result"
    }
   ],
   "source": [
    "A"
   ]
  },
  {
   "cell_type": "code",
   "execution_count": 21,
   "id": "5f90cb14-4422-4337-999c-2827860ce34f",
   "metadata": {},
   "outputs": [
    {
     "data": {
      "text/plain": [
       "array([50,  7, 10, 83, 50])"
      ]
     },
     "execution_count": 21,
     "metadata": {},
     "output_type": "execute_result"
    }
   ],
   "source": [
    "A[np.array([\n",
    "    [True, False, True],\n",
    "    [False, True, False],\n",
    "    [True, False, True]\n",
    "])]"
   ]
  },
  {
   "cell_type": "code",
   "execution_count": 22,
   "id": "115101fe-c6bd-43b6-8ea9-f0f596ef1ede",
   "metadata": {},
   "outputs": [
    {
     "data": {
      "text/plain": [
       "array([[ True,  True, False],\n",
       "       [ True, False,  True],\n",
       "       [ True, False,  True]])"
      ]
     },
     "execution_count": 22,
     "metadata": {},
     "output_type": "execute_result"
    }
   ],
   "source": [
    "A>30"
   ]
  },
  {
   "cell_type": "code",
   "execution_count": 23,
   "id": "e1a99c66-e2ba-426e-a505-7ca0c41620e8",
   "metadata": {},
   "outputs": [
    {
     "data": {
      "text/plain": [
       "array([50, 82, 97, 68, 83, 50])"
      ]
     },
     "execution_count": 23,
     "metadata": {},
     "output_type": "execute_result"
    }
   ],
   "source": [
    "A[A>30]"
   ]
  },
  {
   "cell_type": "markdown",
   "id": "8b1b6eaf-199b-4798-9979-6e3fd26c1d06",
   "metadata": {},
   "source": [
    "![green-divider](https://user-images.githubusercontent.com/7065401/52071924-c003ad80-2562-11e9-8297-1c6595f8a7ff.png)\n",
    "\n",
    "### Linear Algebra"
   ]
  },
  {
   "cell_type": "code",
   "execution_count": 24,
   "id": "fa89c9fd-8704-4c91-b4af-1831d165f22f",
   "metadata": {},
   "outputs": [],
   "source": [
    "A = np.array([\n",
    "    [1,2,3],\n",
    "    [4,5,6],\n",
    "    [7,8,9]\n",
    "])    "
   ]
  },
  {
   "cell_type": "code",
   "execution_count": 25,
   "id": "7a67867a-8ede-4170-b247-85fd5a546efc",
   "metadata": {},
   "outputs": [],
   "source": [
    "B = np.array([\n",
    "    [6,5],\n",
    "    [4,3],\n",
    "    [2,1]\n",
    "])"
   ]
  },
  {
   "cell_type": "code",
   "execution_count": 26,
   "id": "acc899a6-777a-41c1-aa77-2b1a0927912a",
   "metadata": {},
   "outputs": [
    {
     "data": {
      "text/plain": [
       "array([[20, 14],\n",
       "       [56, 41],\n",
       "       [92, 68]])"
      ]
     },
     "execution_count": 26,
     "metadata": {},
     "output_type": "execute_result"
    }
   ],
   "source": [
    "A.dot(B) # Producto matricial (Operación que suma los productos cruzados de las filas de la primera matriz A con las columnas de las segunda matriz B)"
   ]
  },
  {
   "cell_type": "code",
   "execution_count": 32,
   "id": "04063130-2b29-46b8-84bb-38da6791ea86",
   "metadata": {},
   "outputs": [
    {
     "data": {
      "text/plain": [
       "array([[20, 14],\n",
       "       [56, 41],\n",
       "       [92, 68]])"
      ]
     },
     "execution_count": 32,
     "metadata": {},
     "output_type": "execute_result"
    }
   ],
   "source": [
    "A @ B #  Lo mismo pero más moderno"
   ]
  },
  {
   "cell_type": "code",
   "execution_count": 33,
   "id": "b03b0870-a217-4fd9-bd9e-25043ba1c524",
   "metadata": {},
   "outputs": [
    {
     "data": {
      "text/plain": [
       "array([[6, 4, 2],\n",
       "       [5, 3, 1]])"
      ]
     },
     "execution_count": 33,
     "metadata": {},
     "output_type": "execute_result"
    }
   ],
   "source": [
    "B.T # Traspuesta de una matriz (Matriz que se obtiene intercambiando filas por columnas)"
   ]
  },
  {
   "cell_type": "code",
   "execution_count": 30,
   "id": "755592cd-8749-4dcd-a619-2bd9c16d601d",
   "metadata": {},
   "outputs": [
    {
     "data": {
      "text/plain": [
       "array([[1, 2, 3],\n",
       "       [4, 5, 6],\n",
       "       [7, 8, 9]])"
      ]
     },
     "execution_count": 30,
     "metadata": {},
     "output_type": "execute_result"
    }
   ],
   "source": [
    "A"
   ]
  },
  {
   "cell_type": "code",
   "execution_count": 31,
   "id": "45bfa70d-341b-473d-967d-63163cfb659f",
   "metadata": {},
   "outputs": [
    {
     "data": {
      "text/plain": [
       "array([[36, 48, 60],\n",
       "       [24, 33, 42]])"
      ]
     },
     "execution_count": 31,
     "metadata": {},
     "output_type": "execute_result"
    }
   ],
   "source": [
    "B.T @ A"
   ]
  },
  {
   "cell_type": "markdown",
   "id": "a4a6d38b-3a4e-4077-b9ec-364f0aef9402",
   "metadata": {},
   "source": [
    "![green-divider](https://user-images.githubusercontent.com/7065401/52071924-c003ad80-2562-11e9-8297-1c6595f8a7ff.png)\n",
    "\n",
    "### Useful Numpy functions"
   ]
  },
  {
   "cell_type": "markdown",
   "id": "58ca6703-1e7f-4aab-abd7-b5d68d4e96ed",
   "metadata": {},
   "source": [
    "### `random` "
   ]
  },
  {
   "cell_type": "code",
   "execution_count": 48,
   "id": "e79522cb-e744-47a8-9b6c-81c47c6f6802",
   "metadata": {},
   "outputs": [
    {
     "data": {
      "text/plain": [
       "array([0.7392548 , 0.97659418])"
      ]
     },
     "execution_count": 48,
     "metadata": {},
     "output_type": "execute_result"
    }
   ],
   "source": [
    "np.random.random(size=2) # Genera un array de 2 números aleatorios decimales entre 0.0 y 1.0 (distribución uniforme)"
   ]
  },
  {
   "cell_type": "code",
   "execution_count": 49,
   "id": "1f99a8f0-d91c-4144-9eb3-7bf4274b57eb",
   "metadata": {},
   "outputs": [
    {
     "data": {
      "text/plain": [
       "array([-1.63413737, -1.47341528])"
      ]
     },
     "execution_count": 49,
     "metadata": {},
     "output_type": "execute_result"
    }
   ],
   "source": [
    "np.random.normal(size=2) # Genera un array de 2 números aleatorios con distribución normal (gaussiana), es decir, con forma de campana"
   ]
  },
  {
   "cell_type": "code",
   "execution_count": 50,
   "id": "e6be176c-b747-4a16-a82c-d6a2e23e37a1",
   "metadata": {},
   "outputs": [
    {
     "data": {
      "text/plain": [
       "array([[0.51035792, 0.08111512, 0.65514445, 0.73077899],\n",
       "       [0.37888326, 0.65109952, 0.41479973, 0.36607392]])"
      ]
     },
     "execution_count": 50,
     "metadata": {},
     "output_type": "execute_result"
    }
   ],
   "source": [
    "np.random.rand(2,4) # Genera una matriz de 2 filas y 4 columnas con números aleatorios decimales entre 0.0 y 1.0 (distribución uniforme)"
   ]
  },
  {
   "cell_type": "markdown",
   "id": "b98a7dc2-5e66-4689-8126-82a7820fcd06",
   "metadata": {},
   "source": [
    "---\n",
    "### `arange` "
   ]
  },
  {
   "cell_type": "code",
   "execution_count": 51,
   "id": "6e479a2b-579b-40df-85b0-d47c9ab444e1",
   "metadata": {},
   "outputs": [
    {
     "data": {
      "text/plain": [
       "array([0, 1, 2, 3, 4, 5, 6, 7, 8, 9])"
      ]
     },
     "execution_count": 51,
     "metadata": {},
     "output_type": "execute_result"
    }
   ],
   "source": [
    "np.arange(10)"
   ]
  },
  {
   "cell_type": "code",
   "execution_count": 52,
   "id": "9aad419d-6500-4276-91af-7b59d451e9ca",
   "metadata": {},
   "outputs": [
    {
     "data": {
      "text/plain": [
       "array([5, 6, 7, 8, 9])"
      ]
     },
     "execution_count": 52,
     "metadata": {},
     "output_type": "execute_result"
    }
   ],
   "source": [
    "np.arange(5, 10)"
   ]
  },
  {
   "cell_type": "code",
   "execution_count": 54,
   "id": "9d996784-4a2c-4b3e-9fb4-f7b6d5c6a17c",
   "metadata": {},
   "outputs": [
    {
     "data": {
      "text/plain": [
       "array([0. , 0.1, 0.2, 0.3, 0.4, 0.5, 0.6, 0.7, 0.8, 0.9])"
      ]
     },
     "execution_count": 54,
     "metadata": {},
     "output_type": "execute_result"
    }
   ],
   "source": [
    "np.arange(0, 1, .1) # Inicio-Fin-Paso"
   ]
  },
  {
   "cell_type": "markdown",
   "id": "09f25d9f-f407-4c10-abe7-ff36d84c2619",
   "metadata": {},
   "source": [
    "---\n",
    "### `reshape`"
   ]
  },
  {
   "cell_type": "code",
   "execution_count": 56,
   "id": "38d65ce6-f482-4e55-941a-da0952b9abfc",
   "metadata": {},
   "outputs": [
    {
     "data": {
      "text/plain": [
       "array([[0, 1, 2, 3, 4],\n",
       "       [5, 6, 7, 8, 9]])"
      ]
     },
     "execution_count": 56,
     "metadata": {},
     "output_type": "execute_result"
    }
   ],
   "source": [
    "np.arange(10).reshape(2, 5)"
   ]
  },
  {
   "cell_type": "code",
   "execution_count": 57,
   "id": "bedc248d-e2bb-490f-a664-3d3d1fe2725a",
   "metadata": {},
   "outputs": [
    {
     "data": {
      "text/plain": [
       "array([[0, 1],\n",
       "       [2, 3],\n",
       "       [4, 5],\n",
       "       [6, 7],\n",
       "       [8, 9]])"
      ]
     },
     "execution_count": 57,
     "metadata": {},
     "output_type": "execute_result"
    }
   ],
   "source": [
    "np.arange(10).reshape(5, 2)"
   ]
  },
  {
   "cell_type": "markdown",
   "id": "fe0063e9-43ae-4d61-8ac8-ec6d1401ac54",
   "metadata": {},
   "source": [
    "---\n",
    "### `linspace`"
   ]
  },
  {
   "cell_type": "code",
   "execution_count": 61,
   "id": "a327c9c1-928d-4378-bbe6-ee9bcafe026e",
   "metadata": {},
   "outputs": [
    {
     "data": {
      "text/plain": [
       "array([0.  , 0.25, 0.5 , 0.75, 1.  ])"
      ]
     },
     "execution_count": 61,
     "metadata": {},
     "output_type": "execute_result"
    }
   ],
   "source": [
    "np.linspace(0, 1, 5) # Genera un array de 5 valores equispaciados entre 0 y 1, ambos incluidos."
   ]
  },
  {
   "cell_type": "code",
   "execution_count": 60,
   "id": "f21e5b8f-4667-401a-81f0-5db93cbb3565",
   "metadata": {},
   "outputs": [
    {
     "data": {
      "text/plain": [
       "array([0.        , 0.05263158, 0.10526316, 0.15789474, 0.21052632,\n",
       "       0.26315789, 0.31578947, 0.36842105, 0.42105263, 0.47368421,\n",
       "       0.52631579, 0.57894737, 0.63157895, 0.68421053, 0.73684211,\n",
       "       0.78947368, 0.84210526, 0.89473684, 0.94736842, 1.        ])"
      ]
     },
     "execution_count": 60,
     "metadata": {},
     "output_type": "execute_result"
    }
   ],
   "source": [
    "np.linspace(0,1,20)"
   ]
  },
  {
   "cell_type": "code",
   "execution_count": 63,
   "id": "d5a50feb-2b91-4933-aa07-3d057714f7ab",
   "metadata": {},
   "outputs": [
    {
     "data": {
      "text/plain": [
       "array([0.  , 0.05, 0.1 , 0.15, 0.2 , 0.25, 0.3 , 0.35, 0.4 , 0.45, 0.5 ,\n",
       "       0.55, 0.6 , 0.65, 0.7 , 0.75, 0.8 , 0.85, 0.9 , 0.95])"
      ]
     },
     "execution_count": 63,
     "metadata": {},
     "output_type": "execute_result"
    }
   ],
   "source": [
    "np.linspace(0,1,20,False) # No incluye el 1, por lo que genera 20 valores equispaciados hasta justo antes del 1"
   ]
  },
  {
   "cell_type": "markdown",
   "id": "c2c664fe-b459-4979-84bb-4be2c319eecd",
   "metadata": {},
   "source": [
    "---\n",
    "### `zeros`, `ones`, `empty`"
   ]
  },
  {
   "cell_type": "code",
   "execution_count": 64,
   "id": "40403a1c-1e72-4eaf-b420-17e4e8ac5c28",
   "metadata": {},
   "outputs": [
    {
     "data": {
      "text/plain": [
       "array([0., 0., 0., 0., 0.])"
      ]
     },
     "execution_count": 64,
     "metadata": {},
     "output_type": "execute_result"
    }
   ],
   "source": [
    "np.zeros(5)"
   ]
  },
  {
   "cell_type": "code",
   "execution_count": 65,
   "id": "8ba8be05-77fd-41fa-8e7c-1f2118d6d6b3",
   "metadata": {},
   "outputs": [
    {
     "data": {
      "text/plain": [
       "array([[0., 0., 0.],\n",
       "       [0., 0., 0.],\n",
       "       [0., 0., 0.]])"
      ]
     },
     "execution_count": 65,
     "metadata": {},
     "output_type": "execute_result"
    }
   ],
   "source": [
    "np.zeros((3,3))"
   ]
  },
  {
   "cell_type": "code",
   "execution_count": 67,
   "id": "5dc926a2-5124-4f06-bc1d-c44d2f134462",
   "metadata": {},
   "outputs": [
    {
     "data": {
      "text/plain": [
       "array([[0, 0, 0],\n",
       "       [0, 0, 0],\n",
       "       [0, 0, 0]], dtype=int64)"
      ]
     },
     "execution_count": 67,
     "metadata": {},
     "output_type": "execute_result"
    }
   ],
   "source": [
    "np.zeros((3,3), dtype=np.int64)"
   ]
  },
  {
   "cell_type": "code",
   "execution_count": 68,
   "id": "a08a4acf-2c3e-41c3-acdb-0b79a5713a27",
   "metadata": {},
   "outputs": [
    {
     "data": {
      "text/plain": [
       "array([1., 1., 1., 1., 1.])"
      ]
     },
     "execution_count": 68,
     "metadata": {},
     "output_type": "execute_result"
    }
   ],
   "source": [
    "np.ones(5)"
   ]
  },
  {
   "cell_type": "code",
   "execution_count": 70,
   "id": "8a287af0-4efa-4023-a26e-2feb8cf04173",
   "metadata": {},
   "outputs": [
    {
     "data": {
      "text/plain": [
       "array([[1., 1., 1.],\n",
       "       [1., 1., 1.],\n",
       "       [1., 1., 1.]])"
      ]
     },
     "execution_count": 70,
     "metadata": {},
     "output_type": "execute_result"
    }
   ],
   "source": [
    "np.ones((3,3))"
   ]
  },
  {
   "cell_type": "code",
   "execution_count": 73,
   "id": "1c61107a-c843-4f7b-9789-954d1e7dbcf6",
   "metadata": {},
   "outputs": [
    {
     "data": {
      "text/plain": [
       "array([1., 1., 1., 1., 1.])"
      ]
     },
     "execution_count": 73,
     "metadata": {},
     "output_type": "execute_result"
    }
   ],
   "source": [
    "np.empty(5) # Genera un array de 5 elementos sin inicializar, es decir, con valores basura aleatorios que ya están en la memoria."
   ]
  },
  {
   "cell_type": "code",
   "execution_count": 74,
   "id": "7becce48-2f63-40f2-807f-2dfbedbd75a1",
   "metadata": {},
   "outputs": [
    {
     "data": {
      "text/plain": [
       "array([[0.25, 0.5 ],\n",
       "       [0.75, 1.  ]])"
      ]
     },
     "execution_count": 74,
     "metadata": {},
     "output_type": "execute_result"
    }
   ],
   "source": [
    "np.empty((2,2)) # Crea una matriz de 2x2 sin inicializar, es decir, con valores basura"
   ]
  },
  {
   "cell_type": "markdown",
   "id": "be7e0b1d-18eb-45b8-a907-ec1c240d2d5f",
   "metadata": {},
   "source": [
    "---\n",
    "### `identity` and `eye`"
   ]
  },
  {
   "cell_type": "code",
   "execution_count": 75,
   "id": "3df6043b-7c7c-4c1f-8654-c9104678018e",
   "metadata": {},
   "outputs": [
    {
     "data": {
      "text/plain": [
       "array([[1., 0., 0.],\n",
       "       [0., 1., 0.],\n",
       "       [0., 0., 1.]])"
      ]
     },
     "execution_count": 75,
     "metadata": {},
     "output_type": "execute_result"
    }
   ],
   "source": [
    "np.identity(3) # Crea una matriz identidad de 3x3, es decir, una matriz cuadrada con 1 en la diagonal principal"
   ]
  },
  {
   "cell_type": "code",
   "execution_count": 83,
   "id": "41d39cde-5202-4ebb-bff0-91a4b206f7bf",
   "metadata": {},
   "outputs": [
    {
     "data": {
      "text/plain": [
       "array([[1., 0., 0.],\n",
       "       [0., 1., 0.],\n",
       "       [0., 0., 1.]])"
      ]
     },
     "execution_count": 83,
     "metadata": {},
     "output_type": "execute_result"
    }
   ],
   "source": [
    "np.eye(3,3) # Es similar a la anterior pero siendo más flexible"
   ]
  },
  {
   "cell_type": "code",
   "execution_count": 77,
   "id": "58f60b60-a577-4438-869a-8bfb16aacd91",
   "metadata": {},
   "outputs": [
    {
     "data": {
      "text/plain": [
       "array([[1., 0., 0., 0.],\n",
       "       [0., 1., 0., 0.],\n",
       "       [0., 0., 1., 0.],\n",
       "       [0., 0., 0., 1.],\n",
       "       [0., 0., 0., 0.],\n",
       "       [0., 0., 0., 0.],\n",
       "       [0., 0., 0., 0.],\n",
       "       [0., 0., 0., 0.]])"
      ]
     },
     "execution_count": 77,
     "metadata": {},
     "output_type": "execute_result"
    }
   ],
   "source": [
    "np.eye(8,4)"
   ]
  },
  {
   "cell_type": "code",
   "execution_count": 85,
   "id": "81ba8e3c-340c-4aed-8dc0-d6ad02d0c3e6",
   "metadata": {},
   "outputs": [
    {
     "data": {
      "text/plain": [
       "array([[0., 1., 0., 0.],\n",
       "       [0., 0., 1., 0.],\n",
       "       [0., 0., 0., 1.],\n",
       "       [0., 0., 0., 0.],\n",
       "       [0., 0., 0., 0.],\n",
       "       [0., 0., 0., 0.],\n",
       "       [0., 0., 0., 0.],\n",
       "       [0., 0., 0., 0.]])"
      ]
     },
     "execution_count": 85,
     "metadata": {},
     "output_type": "execute_result"
    }
   ],
   "source": [
    "np.eye(8,4,k=1) # Desplaza la diagonal principal una posición por encima de la diagonal principal"
   ]
  },
  {
   "cell_type": "code",
   "execution_count": 84,
   "id": "d39b4790-dd0a-443b-9935-816236b923b8",
   "metadata": {},
   "outputs": [
    {
     "data": {
      "text/plain": [
       "array([[0., 0., 0., 0.],\n",
       "       [0., 0., 0., 0.],\n",
       "       [0., 0., 0., 0.],\n",
       "       [1., 0., 0., 0.],\n",
       "       [0., 1., 0., 0.],\n",
       "       [0., 0., 1., 0.],\n",
       "       [0., 0., 0., 1.],\n",
       "       [0., 0., 0., 0.]])"
      ]
     },
     "execution_count": 84,
     "metadata": {},
     "output_type": "execute_result"
    }
   ],
   "source": [
    "np.eye(8,4,k=-3) # Desplaza los 1, tres posiciones por debajo de la diagonal principal"
   ]
  },
  {
   "cell_type": "markdown",
   "id": "d846f79b-e643-4929-8b81-8ca3386f9c69",
   "metadata": {},
   "source": [
    "![purple-divider](https://user-images.githubusercontent.com/7065401/52071927-c1cd7100-2562-11e9-908a-dde91ba14e59.png)"
   ]
  },
  {
   "cell_type": "markdown",
   "id": "60a8ff7b-fc3d-4db3-824e-b5370d96e6b2",
   "metadata": {},
   "source": [
    "## EJERCICIO 1:\n",
    "- Crea una matriz con valores del 0 al 35 y conviértela en una 6x6\n",
    "- Calcula:\n",
    "- - np.sum(array, axis=0) Suma por columnas\n",
    "- - np-sum(array, axis=1) Suma por filas"
   ]
  },
  {
   "cell_type": "code",
   "execution_count": 86,
   "id": "7cd7fb98-71b2-4429-b382-8563114ee785",
   "metadata": {},
   "outputs": [
    {
     "name": "stdout",
     "output_type": "stream",
     "text": [
      "[[ 0  1  2  3  4  5]\n",
      " [ 6  7  8  9 10 11]\n",
      " [12 13 14 15 16 17]\n",
      " [18 19 20 21 22 23]\n",
      " [24 25 26 27 28 29]\n",
      " [30 31 32 33 34 35]]\n"
     ]
    }
   ],
   "source": [
    "A = np.arange(36).reshape(6,6)\n",
    "print(A)"
   ]
  },
  {
   "cell_type": "code",
   "execution_count": 88,
   "id": "000f2993-58d6-47a9-981b-41f7cf8519a2",
   "metadata": {},
   "outputs": [
    {
     "data": {
      "text/plain": [
       "array([ 90,  96, 102, 108, 114, 120])"
      ]
     },
     "execution_count": 88,
     "metadata": {},
     "output_type": "execute_result"
    }
   ],
   "source": [
    "np.sum(A, axis=0)"
   ]
  },
  {
   "cell_type": "code",
   "execution_count": 89,
   "id": "375f0dd9-a19f-43f3-a475-2e36833928dc",
   "metadata": {},
   "outputs": [
    {
     "data": {
      "text/plain": [
       "array([ 15,  51,  87, 123, 159, 195])"
      ]
     },
     "execution_count": 89,
     "metadata": {},
     "output_type": "execute_result"
    }
   ],
   "source": [
    "np.sum(A, axis=1)"
   ]
  },
  {
   "cell_type": "markdown",
   "id": "b1cc0ed2-3be5-4ab0-850f-15b2870c8b91",
   "metadata": {},
   "source": [
    "---\n",
    "## EJERCICIO 2:\n",
    "- Genera una matriz 4x4 con valores aleatorios entre 1 y 100\n",
    "- Calcula la media\n",
    "- Cuenta cuántos valores son mayores que la media"
   ]
  },
  {
   "cell_type": "code",
   "execution_count": 91,
   "id": "3343293b-167f-4f80-81de-c73643731925",
   "metadata": {},
   "outputs": [
    {
     "name": "stdout",
     "output_type": "stream",
     "text": [
      "[[59 49 95 56]\n",
      " [57 87 52 29]\n",
      " [90 20 68  7]\n",
      " [19 38 93 18]]\n"
     ]
    }
   ],
   "source": [
    "A = np.random.randint(1, 101, size=(4,4))\n",
    "print(A)"
   ]
  },
  {
   "cell_type": "code",
   "execution_count": 92,
   "id": "a48b75b6-e72f-4130-a346-d4e818e4c9dd",
   "metadata": {},
   "outputs": [
    {
     "data": {
      "text/plain": [
       "52.3125"
      ]
     },
     "execution_count": 92,
     "metadata": {},
     "output_type": "execute_result"
    }
   ],
   "source": [
    "A.mean()"
   ]
  },
  {
   "cell_type": "code",
   "execution_count": 93,
   "id": "b123cb0e-4fb5-4629-a82a-8d7dde075e0c",
   "metadata": {},
   "outputs": [
    {
     "data": {
      "text/plain": [
       "array([59, 95, 56, 57, 87, 90, 68, 93])"
      ]
     },
     "execution_count": 93,
     "metadata": {},
     "output_type": "execute_result"
    }
   ],
   "source": [
    "A[A > A.mean()]"
   ]
  },
  {
   "cell_type": "markdown",
   "id": "d74e8f83-b0c7-4e5f-be44-3729642bd4ae",
   "metadata": {},
   "source": [
    "---\n",
    "## EJERCICIO 3:\n",
    "- Crea una matriz identidad 5x5\n",
    "- Cambia todos los valores de la diagona principal a 7"
   ]
  },
  {
   "cell_type": "code",
   "execution_count": 94,
   "id": "4225f88b-0fde-4cfb-a513-8ef1673b3794",
   "metadata": {},
   "outputs": [
    {
     "name": "stdout",
     "output_type": "stream",
     "text": [
      "[[1. 0. 0. 0. 0.]\n",
      " [0. 1. 0. 0. 0.]\n",
      " [0. 0. 1. 0. 0.]\n",
      " [0. 0. 0. 1. 0.]\n",
      " [0. 0. 0. 0. 1.]]\n"
     ]
    }
   ],
   "source": [
    "A = np.identity(5)\n",
    "print(A)"
   ]
  },
  {
   "cell_type": "code",
   "execution_count": 95,
   "id": "6ff51d1d-0ed7-4256-b39f-825985758116",
   "metadata": {},
   "outputs": [
    {
     "name": "stdout",
     "output_type": "stream",
     "text": [
      "[[7. 0. 0. 0. 0.]\n",
      " [0. 7. 0. 0. 0.]\n",
      " [0. 0. 7. 0. 0.]\n",
      " [0. 0. 0. 7. 0.]\n",
      " [0. 0. 0. 0. 7.]]\n"
     ]
    }
   ],
   "source": [
    "np.fill_diagonal(A, 7)\n",
    "print(A)"
   ]
  },
  {
   "cell_type": "code",
   "execution_count": null,
   "id": "aa409e52-0bd5-423f-9f08-ea50f8ae3afd",
   "metadata": {},
   "outputs": [],
   "source": []
  }
 ],
 "metadata": {
  "kernelspec": {
   "display_name": "Python [conda env:base] *",
   "language": "python",
   "name": "conda-base-py"
  },
  "language_info": {
   "codemirror_mode": {
    "name": "ipython",
    "version": 3
   },
   "file_extension": ".py",
   "mimetype": "text/x-python",
   "name": "python",
   "nbconvert_exporter": "python",
   "pygments_lexer": "ipython3",
   "version": "3.12.7"
  }
 },
 "nbformat": 4,
 "nbformat_minor": 5
}
