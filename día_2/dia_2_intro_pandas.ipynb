{
 "cells": [
  {
   "cell_type": "markdown",
   "id": "90d3f737-fc08-48eb-836b-d8abdb2ab276",
   "metadata": {},
   "source": [
    "# Pandas - Series"
   ]
  },
  {
   "cell_type": "code",
   "execution_count": 1,
   "id": "28242a54-1af8-40b2-83b8-f686fb35ad58",
   "metadata": {},
   "outputs": [],
   "source": [
    "import pandas as pd\n",
    "import numpy as np"
   ]
  },
  {
   "cell_type": "markdown",
   "id": "662729a3-70ea-4785-a807-978e95b53e24",
   "metadata": {},
   "source": [
    "### Pandas Series\n",
    "\n",
    "We'll start analyzing \"[The Group of Seven](https://en.wikipedia.org/wiki/Group_of_Seven)\". Which is a political formed by Canada, France, Germany, Italy, Japan, the United Kingdom and the United States. We'll start by analyzing population, and for that, we'll use a `pandas.Series` object."
   ]
  },
  {
   "cell_type": "code",
   "execution_count": 16,
   "id": "9b81dd35-9b53-4a1f-8232-7308106f4bd1",
   "metadata": {},
   "outputs": [],
   "source": [
    "# In millions\n",
    "g7_pop = pd.Series([35.467, 63.951, 80.940, 60.665, 127.061, 64.511, 318.523])"
   ]
  },
  {
   "cell_type": "code",
   "execution_count": 17,
   "id": "1276907e-4950-46b4-8eca-c70d080d1214",
   "metadata": {},
   "outputs": [
    {
     "data": {
      "text/plain": [
       "0     35.467\n",
       "1     63.951\n",
       "2     80.940\n",
       "3     60.665\n",
       "4    127.061\n",
       "5     64.511\n",
       "6    318.523\n",
       "dtype: float64"
      ]
     },
     "execution_count": 17,
     "metadata": {},
     "output_type": "execute_result"
    }
   ],
   "source": [
    "g7_pop"
   ]
  },
  {
   "cell_type": "markdown",
   "id": "453026c6-e125-4b31-b8b8-0e1587b40ffe",
   "metadata": {},
   "source": [
    "Someone might not know we're representing population in millions of inhabitants. Series can have a `name`, to better document the purpose of the Series:"
   ]
  },
  {
   "cell_type": "code",
   "execution_count": 18,
   "id": "21867514-47d3-4557-a8a5-c25917a6b3a3",
   "metadata": {},
   "outputs": [],
   "source": [
    "g7_pop.name = 'G7 Population in millions'"
   ]
  },
  {
   "cell_type": "code",
   "execution_count": 19,
   "id": "63009ed7-a340-466f-bfc3-e3d5d23e2581",
   "metadata": {},
   "outputs": [
    {
     "data": {
      "text/plain": [
       "0     35.467\n",
       "1     63.951\n",
       "2     80.940\n",
       "3     60.665\n",
       "4    127.061\n",
       "5     64.511\n",
       "6    318.523\n",
       "Name: G7 Population in millions, dtype: float64"
      ]
     },
     "execution_count": 19,
     "metadata": {},
     "output_type": "execute_result"
    }
   ],
   "source": [
    "g7_pop"
   ]
  },
  {
   "cell_type": "markdown",
   "id": "93524d63-ed8a-4de0-bbf8-8d1a2e5db0fa",
   "metadata": {},
   "source": [
    "Series are pretty similar to numpy arrays:"
   ]
  },
  {
   "cell_type": "code",
   "execution_count": 20,
   "id": "1c2905b2-2480-40ba-8a0b-953a52ad1fac",
   "metadata": {},
   "outputs": [
    {
     "data": {
      "text/plain": [
       "dtype('float64')"
      ]
     },
     "execution_count": 20,
     "metadata": {},
     "output_type": "execute_result"
    }
   ],
   "source": [
    "g7_pop.dtype"
   ]
  },
  {
   "cell_type": "code",
   "execution_count": 21,
   "id": "0d6a507c-a685-40de-95f8-423508443089",
   "metadata": {},
   "outputs": [
    {
     "data": {
      "text/plain": [
       "array([ 35.467,  63.951,  80.94 ,  60.665, 127.061,  64.511, 318.523])"
      ]
     },
     "execution_count": 21,
     "metadata": {},
     "output_type": "execute_result"
    }
   ],
   "source": [
    "g7_pop.values"
   ]
  },
  {
   "cell_type": "markdown",
   "id": "7a8a081e-8efb-454d-ba42-aeaeea64d41e",
   "metadata": {},
   "source": [
    "They're actually backed by numpy arrays:"
   ]
  },
  {
   "cell_type": "code",
   "execution_count": 22,
   "id": "9dbf4911-d607-4196-b847-75f621295e0c",
   "metadata": {},
   "outputs": [
    {
     "data": {
      "text/plain": [
       "numpy.ndarray"
      ]
     },
     "execution_count": 22,
     "metadata": {},
     "output_type": "execute_result"
    }
   ],
   "source": [
    "type(g7_pop.values)"
   ]
  },
  {
   "cell_type": "markdown",
   "id": "63aeeb6f-c4b0-4841-9698-521616f2f27c",
   "metadata": {},
   "source": [
    "And they _look_ like simple Python lists or Numpy Arrays. But they're actually more similar to Python `dicts`.\n",
    "\n",
    "A Series has an `index`, that's similar to the automatic index assigned to Python's lists:"
   ]
  },
  {
   "cell_type": "code",
   "execution_count": 23,
   "id": "a358c88c-0102-45d2-bfb8-0b25502dbeaa",
   "metadata": {},
   "outputs": [
    {
     "data": {
      "text/plain": [
       "35.467"
      ]
     },
     "execution_count": 23,
     "metadata": {},
     "output_type": "execute_result"
    }
   ],
   "source": [
    "g7_pop[0]"
   ]
  },
  {
   "cell_type": "code",
   "execution_count": 24,
   "id": "d26fa476-a17a-4eb7-879f-ae50955a1b7e",
   "metadata": {},
   "outputs": [
    {
     "data": {
      "text/plain": [
       "63.951"
      ]
     },
     "execution_count": 24,
     "metadata": {},
     "output_type": "execute_result"
    }
   ],
   "source": [
    "g7_pop[1]"
   ]
  },
  {
   "cell_type": "code",
   "execution_count": 25,
   "id": "c4e8bb34-b307-4f86-999a-73f15f190313",
   "metadata": {},
   "outputs": [
    {
     "data": {
      "text/plain": [
       "RangeIndex(start=0, stop=7, step=1)"
      ]
     },
     "execution_count": 25,
     "metadata": {},
     "output_type": "execute_result"
    }
   ],
   "source": [
    "g7_pop.index"
   ]
  },
  {
   "cell_type": "markdown",
   "id": "0d1119ff-6ee7-4e7e-be48-9b47dd13e1e2",
   "metadata": {},
   "source": [
    "But, in contrast to lists, we can explicitly define the index:"
   ]
  },
  {
   "cell_type": "code",
   "execution_count": 26,
   "id": "0fbb2bbb-e5f1-4df8-a860-e51fb6581a75",
   "metadata": {},
   "outputs": [],
   "source": [
    "g7_pop.index = [\n",
    "    'Canada',\n",
    "    'France',\n",
    "    'Germany',\n",
    "    'Italy',\n",
    "    'Japan',\n",
    "    'United Kingdom',\n",
    "    'United States',\n",
    "]"
   ]
  },
  {
   "cell_type": "code",
   "execution_count": 27,
   "id": "d0f0ef39-a57d-4280-9b82-76336c0a9768",
   "metadata": {},
   "outputs": [
    {
     "data": {
      "text/plain": [
       "Canada             35.467\n",
       "France             63.951\n",
       "Germany            80.940\n",
       "Italy              60.665\n",
       "Japan             127.061\n",
       "United Kingdom     64.511\n",
       "United States     318.523\n",
       "Name: G7 Population in millions, dtype: float64"
      ]
     },
     "execution_count": 27,
     "metadata": {},
     "output_type": "execute_result"
    }
   ],
   "source": [
    "g7_pop"
   ]
  },
  {
   "cell_type": "markdown",
   "id": "3d9423f9-55bb-4364-999d-422c360b7b0e",
   "metadata": {},
   "source": [
    "![purple-divider](https://user-images.githubusercontent.com/7065401/52071927-c1cd7100-2562-11e9-908a-dde91ba14e59.png)"
   ]
  },
  {
   "cell_type": "markdown",
   "id": "30aca680-f18d-4302-b78d-07ab6ad1fb82",
   "metadata": {},
   "source": [
    "## EJERCICIO 1:\n",
    "- Crea una `pd.series` con índices = días de la semana, y cuyos valores sean temperaturas ficticias."
   ]
  },
  {
   "cell_type": "code",
   "execution_count": 28,
   "id": "6be2127e-2ca7-4704-9432-28e070ea6d83",
   "metadata": {},
   "outputs": [],
   "source": [
    "week_days = pd.Series([17,20,30,23,25,23,29])"
   ]
  },
  {
   "cell_type": "code",
   "execution_count": 44,
   "id": "e298f762-8a67-4564-9570-cfae58578597",
   "metadata": {},
   "outputs": [
    {
     "name": "stdout",
     "output_type": "stream",
     "text": [
      "Lunes        17\n",
      "Martes       20\n",
      "Miércoles    15\n",
      "Jueves       23\n",
      "Viernes      25\n",
      "Sábado       23\n",
      "Domingo      29\n",
      "dtype: int64\n"
     ]
    }
   ],
   "source": [
    "week_days.index = [\n",
    "    'Lunes',\n",
    "    'Martes',\n",
    "    'Miércoles',\n",
    "    'Jueves',\n",
    "    'Viernes',\n",
    "    'Sábado',\n",
    "    'Domingo',\n",
    "]\n",
    "\n",
    "print(week_days)"
   ]
  },
  {
   "cell_type": "markdown",
   "id": "fe737fa1-c489-4c76-88b3-25f5324e85a2",
   "metadata": {},
   "source": [
    "---\n",
    "## EJERCICIO 2:\n",
    "- Accede al valor del miércoles y cámbialo por otra temperatura"
   ]
  },
  {
   "cell_type": "code",
   "execution_count": 45,
   "id": "2965dfbb-0d13-4d12-a5d9-b4b00e781d5e",
   "metadata": {},
   "outputs": [
    {
     "name": "stdout",
     "output_type": "stream",
     "text": [
      "15\n"
     ]
    }
   ],
   "source": [
    "week_days.iloc[2] = 15\n",
    "\n",
    "print(week_days.iloc[2])"
   ]
  },
  {
   "cell_type": "markdown",
   "id": "caf98709-b33b-4749-a12b-7ae87bdb292b",
   "metadata": {},
   "source": [
    "---\n",
    "## EJERCICIO 3:\n",
    "- Filtra los días con temperaturas mayores a 20"
   ]
  },
  {
   "cell_type": "code",
   "execution_count": 46,
   "id": "c37cfe27-26c4-4c14-85c3-54e31516a84f",
   "metadata": {},
   "outputs": [
    {
     "name": "stdout",
     "output_type": "stream",
     "text": [
      "Jueves     23\n",
      "Viernes    25\n",
      "Sábado     23\n",
      "Domingo    29\n",
      "dtype: int64\n"
     ]
    }
   ],
   "source": [
    "mayores_20=week_days[week_days>20]\n",
    "\n",
    "print(mayores_20)"
   ]
  },
  {
   "cell_type": "markdown",
   "id": "13957e18-33e0-4834-a119-1cb3774576e7",
   "metadata": {},
   "source": [
    "---\n",
    "## EJERCICIO 4:\n",
    "- Usa `.to_dict()` para convertir la Series en un diccionario"
   ]
  },
  {
   "cell_type": "code",
   "execution_count": 48,
   "id": "f52e97d5-74ed-4cae-86f0-4b37abe48546",
   "metadata": {},
   "outputs": [
    {
     "data": {
      "text/plain": [
       "{'Lunes': 17,\n",
       " 'Martes': 20,\n",
       " 'Miércoles': 15,\n",
       " 'Jueves': 23,\n",
       " 'Viernes': 25,\n",
       " 'Sábado': 23,\n",
       " 'Domingo': 29}"
      ]
     },
     "execution_count": 48,
     "metadata": {},
     "output_type": "execute_result"
    }
   ],
   "source": [
    "week_days.to_dict()"
   ]
  },
  {
   "cell_type": "code",
   "execution_count": null,
   "id": "699cad85-c48b-4406-898a-5550095bedf9",
   "metadata": {},
   "outputs": [],
   "source": []
  }
 ],
 "metadata": {
  "kernelspec": {
   "display_name": "Python [conda env:base] *",
   "language": "python",
   "name": "conda-base-py"
  },
  "language_info": {
   "codemirror_mode": {
    "name": "ipython",
    "version": 3
   },
   "file_extension": ".py",
   "mimetype": "text/x-python",
   "name": "python",
   "nbconvert_exporter": "python",
   "pygments_lexer": "ipython3",
   "version": "3.12.7"
  }
 },
 "nbformat": 4,
 "nbformat_minor": 5
}
